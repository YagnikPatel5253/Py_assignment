{
 "cells": [
  {
   "cell_type": "raw",
   "id": "7f26d1d5-b508-4df8-9fd0-22c46f1d32b4",
   "metadata": {},
   "source": [
    "Question 1\n",
    "Variable names should be start with lowercase letter\n",
    "Don't write reserved key words for instance (if, else, while etc)\n",
    "use meaning full variable names"
   ]
  },
  {
   "cell_type": "raw",
   "id": "9241a117-98e7-4b3e-8b3d-678b2e22f451",
   "metadata": {},
   "source": [
    "Question 2\n",
    "If we will write restricted name as keyword we will get SyntaxError"
   ]
  },
  {
   "cell_type": "raw",
   "id": "60bfc15b-8b00-440e-9d5a-242323a37dd1",
   "metadata": {},
   "source": [
    "Question 3\n",
    "We can not declare string as a varibale name because string is a reserved keyword in python"
   ]
  },
  {
   "cell_type": "raw",
   "id": "49a80ed5-1d10-40b0-baa6-65b45fc36694",
   "metadata": {},
   "source": [
    "Question 4\n",
    "Yes it is possible"
   ]
  },
  {
   "cell_type": "code",
   "execution_count": 1,
   "id": "979cf97f-08d0-44bc-85cf-f637f1cd8228",
   "metadata": {},
   "outputs": [
    {
     "name": "stdout",
     "output_type": "stream",
     "text": [
      "10\n"
     ]
    }
   ],
   "source": [
    "#here is the example code\n",
    "_ = 10\n",
    "print(_)"
   ]
  },
  {
   "cell_type": "code",
   "execution_count": 2,
   "id": "c6d66fde-8089-4078-aea8-dc94ad90f821",
   "metadata": {},
   "outputs": [
    {
     "name": "stdout",
     "output_type": "stream",
     "text": [
      "18\n"
     ]
    }
   ],
   "source": [
    "#Question 5\n",
    "#here is the example code\n",
    "\n",
    "a = 18\n",
    "print(a)"
   ]
  },
  {
   "cell_type": "code",
   "execution_count": 4,
   "id": "16d67b4d-9f1d-4154-bf4b-b52bd54a4054",
   "metadata": {},
   "outputs": [
    {
     "name": "stdout",
     "output_type": "stream",
     "text": [
      "yagnik patel\n"
     ]
    }
   ],
   "source": [
    "a = 'yagnik patel'\n",
    "print(a)"
   ]
  }
 ],
 "metadata": {
  "kernelspec": {
   "display_name": "Python 3 (ipykernel)",
   "language": "python",
   "name": "python3"
  },
  "language_info": {
   "codemirror_mode": {
    "name": "ipython",
    "version": 3
   },
   "file_extension": ".py",
   "mimetype": "text/x-python",
   "name": "python",
   "nbconvert_exporter": "python",
   "pygments_lexer": "ipython3",
   "version": "3.10.8"
  }
 },
 "nbformat": 4,
 "nbformat_minor": 5
}
